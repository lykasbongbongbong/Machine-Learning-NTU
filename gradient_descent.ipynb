{
  "nbformat": 4,
  "nbformat_minor": 0,
  "metadata": {
    "colab": {
      "name": "gradient_descent.ipynb",
      "provenance": []
    },
    "kernelspec": {
      "name": "python3",
      "display_name": "Python 3"
    },
    "accelerator": "GPU"
  },
  "cells": [
    {
      "cell_type": "code",
      "metadata": {
        "id": "OpRI_hqHaL4W"
      },
      "source": [
        "import numpy as np\r\n",
        "import matplotlib.pyplot as plt"
      ],
      "execution_count": 23,
      "outputs": []
    },
    {
      "cell_type": "code",
      "metadata": {
        "id": "JE_ruHtGaw0R"
      },
      "source": [
        "'''\r\n",
        "假設x_data和y_data各有10筆,\r\n",
        "x_data和y_data的關係是 y_data = b + w * x_data\r\n",
        "b和w都是參數，我們要用gradient descent的方式把b,w找出來\r\n",
        "'''\r\n",
        "x_data = [338., 333., 328., 207., 226., 25., 179., 60., 208., 606.]\r\n",
        "y_data = [640., 633., 619., 393., 428., 27., 193., 66., 226., 1591.]"
      ],
      "execution_count": 29,
      "outputs": []
    },
    {
      "cell_type": "code",
      "metadata": {
        "id": "iq13587yao4d"
      },
      "source": [
        "x = np.arange(-200, -100, 1)   #bias\r\n",
        "y = np.arange(-5, 5, 0.1)      #weight\r\n",
        "Z = np.zeros((len(x), len(y)))\r\n",
        "X, Y = np.meshgrid(x,y)\r\n",
        "for i in range(len(x)):\r\n",
        "  for j in range(len(y)):\r\n",
        "    b = x[i]\r\n",
        "    w = y[j]\r\n",
        "    Z[j][i] = 0\r\n",
        "    for n in range(len(x_data)):\r\n",
        "      # [y^ - (b+w*xdata)]的次方\r\n",
        "      # 累加在Z\r\n",
        "\r\n",
        "      Z[j][i] = Z[j][i] + (y_data[n] - (b + w*x_data[n]))**2\r\n",
        "    Z[j][i] = Z[j][i]/len(x_data)"
      ],
      "execution_count": 26,
      "outputs": []
    },
    {
      "cell_type": "code",
      "metadata": {
        "colab": {
          "base_uri": "https://localhost:8080/",
          "height": 285
        },
        "id": "m0G7IMBica1e",
        "outputId": "b5b8615c-7d4b-46db-c378-42805f0e6449"
      },
      "source": [
        "#initalization\r\n",
        "b = -120\r\n",
        "w = -4\r\n",
        "lr = 0.000001\r\n",
        "iteration = 100000\r\n",
        "\r\n",
        "#store initial values for plotting\r\n",
        "b_history = [b]\r\n",
        "w_history = [w]\r\n",
        "\r\n",
        "\r\n",
        "##Goal: 在每一個iteration中，我們要計算出b和w對Loss的偏微分\r\n",
        "#Iterations\r\n",
        "\r\n",
        "\r\n",
        "for i in range(iteration):\r\n",
        "  b_grad = 0.0\r\n",
        "  w_grad = 0.0\r\n",
        "  for n in range(len(x_data)):\r\n",
        "    #可以參照上課的時候的偏微分的式子\r\n",
        "    b_grad = b_grad - 2.0*(y_data[n] - b - w*x_data[n])*1.0\r\n",
        "    w_grad = w_grad - 2.0*(y_data[n] - b - w*x_data[n])*x_data[n]\r\n",
        "  \r\n",
        "  #update parameters\r\n",
        "  b = b - lr*b_grad\r\n",
        "  w = w - lr*w_grad\r\n",
        "\r\n",
        "  #store parameters for plotting\r\n",
        "  b_history.append(b)\r\n",
        "  w_history.append(w)\r\n",
        "\r\n",
        "#plot the figure\r\n",
        "plt.contourf(x,y,Z, 50, alpha=0.5, cmap=plt.get_cmap('jet'))\r\n",
        "plt.plot([-188.4], [2.67], 'x', ms=12, markeredgewidth=3, color='orange')\r\n",
        "plt.plot(b_history, w_history, 'o-', ms=3, lw=1.5, color='black')\r\n",
        "plt.xlim(-200, -100)\r\n",
        "plt.ylim(-5,5)\r\n",
        "plt.xlabel(r'$b$', fontsize=16)\r\n",
        "plt.ylabel(r'$w$', fontsize=16)\r\n",
        "plt.show()"
      ],
      "execution_count": 36,
      "outputs": [
        {
          "output_type": "display_data",
          "data": {
            "image/png": "[encoded data removed]",
            "text/plain": [
              "<Figure size 432x288 with 1 Axes>"
            ]
          },
          "metadata": {
            "tags": [],
            "needs_background": "light"
          }
        }
      ]
    },
    {
      "cell_type": "code",
      "metadata": {
        "colab": {
          "base_uri": "https://localhost:8080/",
          "height": 285
        },
        "id": "0RmGsTZBmGZg",
        "outputId": "6267e462-f9c2-447f-bdbd-45ec2eb5f781"
      },
      "source": [
        "#為了解決一直沒辦法走到最佳解的情況，除了可以調整lr以外，可以讓w和b各自有各自的learning rate\r\n",
        "#AdaGrad\r\n",
        "#initalization\r\n",
        "b = -120\r\n",
        "w = -4\r\n",
        "lr = 1\r\n",
        "iteration = 100000\r\n",
        "\r\n",
        "#store initial values for plotting\r\n",
        "b_history = [b]\r\n",
        "w_history = [w]\r\n",
        "\r\n",
        "# b和w各有自己的lr\r\n",
        "lr_b = 0\r\n",
        "lr_w = 0\r\n",
        "\r\n",
        "##Goal: 在每一個iteration中，我們要計算出b和w對Loss的偏微分\r\n",
        "for i in range(iteration):\r\n",
        "  b_grad = 0.0\r\n",
        "  w_grad = 0.0\r\n",
        "  for n in range(len(x_data)):\r\n",
        "    #可以參照上課的時候的偏微分的式子\r\n",
        "    b_grad = b_grad - 2.0*(y_data[n] - b - w*x_data[n])*1.0\r\n",
        "    w_grad = w_grad - 2.0*(y_data[n] - b - w*x_data[n])*x_data[n]\r\n",
        "  lr_b = lr_b + b_grad ** 2\r\n",
        "  lr_w = lr_w + w_grad ** 2\r\n",
        "  #update parameters\r\n",
        "  b = b - lr/np.sqrt(lr_b)*b_grad\r\n",
        "  w = w - lr/np.sqrt(lr_w)*w_grad\r\n",
        "\r\n",
        "  #store parameters for plotting\r\n",
        "  b_history.append(b)\r\n",
        "  w_history.append(w)\r\n",
        "\r\n",
        "#plot the figure\r\n",
        "plt.contourf(x,y,Z, 50, alpha=0.5, cmap=plt.get_cmap('jet'))\r\n",
        "plt.plot([-188.4], [2.67], 'x', ms=12, markeredgewidth=3, color='orange')\r\n",
        "plt.plot(b_history, w_history, 'o-', ms=3, lw=1.5, color='black')\r\n",
        "plt.xlim(-200, -100)\r\n",
        "plt.ylim(-5,5)\r\n",
        "plt.xlabel(r'$b$', fontsize=16)\r\n",
        "plt.ylabel(r'$w$', fontsize=16)\r\n",
        "plt.show()"
      ],
      "execution_count": 37,
      "outputs": [
        {
          "output_type": "display_data",
          "data": {
            "image/png": "[encoded data removed]",
            "text/plain": [
              "<Figure size 432x288 with 1 Axes>"
            ]
          },
          "metadata": {
            "tags": [],
            "needs_background": "light"
          }
        }
      ]
    },
    {
      "cell_type": "code",
      "metadata": {
        "id": "N_8vAGn0hTbG"
      },
      "source": [
        ""
      ],
      "execution_count": null,
      "outputs": []
    }
  ]
}